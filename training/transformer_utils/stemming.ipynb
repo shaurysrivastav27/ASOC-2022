{
  "nbformat": 4,
  "nbformat_minor": 0,
  "metadata": {
    "colab": {
      "provenance": []
    },
    "kernelspec": {
      "name": "python3",
      "display_name": "Python 3"
    },
    "language_info": {
      "name": "python"
    }
  },
  "cells": [
    {
      "cell_type": "code",
      "execution_count": null,
      "metadata": {
        "id": "GoNXtNHDzpbX"
      },
      "outputs": [],
      "source": [
        "!pip install indic-nlp-library"
      ]
    },
    {
      "cell_type": "code",
      "source": [
        "from indicnlp.normalize.indic_normalize import IndicNormalizerFactory"
      ],
      "metadata": {
        "id": "GYQkZmCu0VEu"
      },
      "execution_count": null,
      "outputs": []
    },
    {
      "cell_type": "code",
      "source": [
        "input_text=\"मनुष्य का महत्वाकांक्षी होना एक स्वाभाविक गुण है । प्रत्येक व्यक्ति जीवन में कुछ न कुछ विशेष प्राप्त करना चाहता है । कुछ बड़े होकर डॉक्टर या इंजीनियर बनना चाहते हैं तो कुछ व्यापार में अपना नाम कमाना चाहते हैं ।\"\n",
        "remove_nuktas=False\n",
        "factory=IndicNormalizerFactory()\n",
        "normalizer=factory.get_normalizer(\"hi\",remove_nuktas=True)\n",
        "output_text=normalizer.normalize(input_text)\n",
        "\n",
        "print(input_text)\n",
        "print(output_text)"
      ],
      "metadata": {
        "colab": {
          "base_uri": "https://localhost:8080/"
        },
        "id": "zk6QKMBU0k5k",
        "outputId": "a6c0db96-a04d-47a9-ffab-efd85c430907"
      },
      "execution_count": null,
      "outputs": [
        {
          "output_type": "stream",
          "name": "stdout",
          "text": [
            "मनुष्य का महत्वाकांक्षी होना एक स्वाभाविक गुण है । प्रत्येक व्यक्ति जीवन में कुछ न कुछ विशेष प्राप्त करना चाहता है । कुछ बड़े होकर डॉक्टर या इंजीनियर बनना चाहते हैं तो कुछ व्यापार में अपना नाम कमाना चाहते हैं ।\n",
            "मनुष्य का महत्वाकांक्षी होना एक स्वाभाविक गुण है । प्रत्येक व्यक्ति जीवन में कुछ न कुछ विशेष प्राप्त करना चाहता है । कुछ बडे होकर डॉक्टर या इंजीनियर बनना चाहते हैं तो कुछ व्यापार में अपना नाम कमाना चाहते हैं ।\n"
          ]
        }
      ]
    }
  ]
}